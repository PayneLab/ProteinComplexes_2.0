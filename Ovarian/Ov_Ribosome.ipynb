{
 "cells": [
  {
   "cell_type": "code",
   "execution_count": 1,
   "metadata": {},
   "outputs": [],
   "source": [
    "%%capture\n",
    "%run /Users/amandaoliphant/Documents/GitHub/OvarianProspective/Protein_Complexes/Analysis_Functions.ipynb"
   ]
  },
  {
   "cell_type": "markdown",
   "metadata": {},
   "source": [
    "### 40S Ribosomal Subunit\n",
    "All of these proteins are elevated in tumor cells"
   ]
  },
  {
   "cell_type": "code",
   "execution_count": 6,
   "metadata": {
    "scrolled": true
   },
   "outputs": [
    {
     "name": "stdout",
     "output_type": "stream",
     "text": [
      "p-value for RPS4X (tumor vs normal): 2.829388148278305e-14\n",
      "p-value for RPS28 (tumor vs normal): 1.6582557036956253e-10\n",
      "p-value for RPS13 (tumor vs normal): 2.947522247609582e-21\n",
      "p-value for RPS12 (tumor vs normal): 3.011386895453137e-17\n",
      "p-value for RPS10 (tumor vs normal): 7.79327002751782e-12\n",
      "p-value for RPS24 (tumor vs normal): 6.708069100689204e-13\n",
      "p-value for RPS19 (tumor vs normal): 3.952788758603707e-17\n",
      "p-value for FAU (tumor vs normal): 6.218399464385661e-06\n",
      "p-value for RPS15A (tumor vs normal): 3.9583517348546626e-16\n",
      "p-value for RPS17 (tumor vs normal): 9.768044770442933e-05\n",
      "p-value for RPSA (tumor vs normal): 6.789709621833115e-10\n",
      "p-value for RPS2 (tumor vs normal): 8.602635865280892e-14\n",
      "p-value for RPS8 (tumor vs normal): 3.397364206921263e-17\n",
      "RPS4Y1 did not match any columns in proteomics dataframe. RPS4Y1_proteomics column inserted, but filled with NaN.\n",
      "p-value for RPS11 (tumor vs normal): 1.514664602806976e-19\n",
      "p-value for RPS9 (tumor vs normal): 6.967819720455259e-17\n",
      "p-value for RPS18 (tumor vs normal): 0.00010864246454436178\n",
      "p-value for RPS29 (tumor vs normal): 1.2629048463094333e-09\n",
      "p-value for RPS5 (tumor vs normal): 1.0539628685673518e-14\n",
      "p-value for RPS16 (tumor vs normal): 2.821622970326597e-08\n",
      "p-value for RPS21 (tumor vs normal): 8.993053871976445e-09\n",
      "p-value for RPS3 (tumor vs normal): 6.486266159419798e-17\n",
      "p-value for RPS27 (tumor vs normal): 6.125634468214569e-14\n",
      "p-value for RPS25 (tumor vs normal): 7.211513809056606e-13\n",
      "p-value for RPS20 (tumor vs normal): 1.0773150778178524e-06\n",
      "p-value for RPS7 (tumor vs normal): 6.601158369880313e-11\n",
      "p-value for RPS3A (tumor vs normal): 6.780077830053114e-14\n",
      "p-value for RPS6 (tumor vs normal): 1.7618380052869944e-10\n"
     ]
    }
   ],
   "source": [
    "ribosome_proteins = subunitNames['40S ribosomal subunit, cytoplasmic']\n",
    "sig_results = []\n",
    "ribosome_proteins = list(set(ribosome_proteins))\n",
    "alpha = 0.05 / len(ribosome_proteins)\n",
    "for protein in ribosome_proteins:\n",
    "    pval = ttest_proteomics(protein)\n",
    "    if pval < alpha:\n",
    "        sig_results.append(protein)\n",
    "        print('p-value for ' + protein + ' (tumor vs normal): ' + str(pval))\n",
    "        #plot_proteomics(protein, by_patient = True, print_pvals = False)"
   ]
  },
  {
   "cell_type": "markdown",
   "metadata": {},
   "source": [
    "### Ribosome (cytoplasmic)\n",
    "All of these proteins are elevated in tumor cells"
   ]
  },
  {
   "cell_type": "code",
   "execution_count": 7,
   "metadata": {
    "scrolled": true
   },
   "outputs": [
    {
     "name": "stdout",
     "output_type": "stream",
     "text": [
      "p-value for RPL23 (tumor vs normal): 1.1254787233805783e-05\n",
      "p-value for RPS17 (tumor vs normal): 9.768044770442933e-05\n",
      "p-value for RPSA (tumor vs normal): 6.789709621833115e-10\n",
      "p-value for RPS11 (tumor vs normal): 1.514664602806976e-19\n",
      "p-value for RPS29 (tumor vs normal): 1.2629048463094333e-09\n",
      "p-value for RPS21 (tumor vs normal): 8.993053871976445e-09\n",
      "p-value for RPS7 (tumor vs normal): 6.601158369880313e-11\n",
      "p-value for RPL35A (tumor vs normal): 1.0003114568295201e-06\n",
      "p-value for RPL24 (tumor vs normal): 9.164789589469575e-12\n",
      "p-value for RPL10 (tumor vs normal): 7.421894037313253e-07\n",
      " RPL9 did not match any columns in proteomics dataframe.  RPL9_proteomics column inserted, but filled with NaN.\n",
      "p-value for RPL22 (tumor vs normal): 1.3422055526683534e-09\n",
      "p-value for RPS4X (tumor vs normal): 2.829388148278305e-14\n",
      "p-value for RPL13 (tumor vs normal): 1.2988095619344782e-07\n",
      "p-value for RPS12 (tumor vs normal): 3.011386895453137e-17\n",
      "p-value for RPL9 (tumor vs normal): 2.4822392057532566e-11\n",
      "p-value for RPL12 (tumor vs normal): 5.40106073661242e-08\n",
      "p-value for RPLP0 (tumor vs normal): 1.0089730243881492e-17\n",
      "p-value for RPL36A (tumor vs normal): 4.959399948685908e-07\n",
      "p-value for RPS3 (tumor vs normal): 6.486266159419798e-17\n",
      "p-value for RPL5 (tumor vs normal): 3.2763136719012823e-09\n",
      "p-value for RPS25 (tumor vs normal): 7.211513809056606e-13\n",
      "p-value for RPS20 (tumor vs normal): 1.0773150778178524e-06\n",
      "p-value for RPS3A (tumor vs normal): 6.780077830053114e-14\n",
      "p-value for RPL15 (tumor vs normal): 0.00033780461466617444\n",
      "p-value for RPL35 (tumor vs normal): 7.939817122924483e-18\n",
      "p-value for RPS13 (tumor vs normal): 2.947522247609582e-21\n",
      "p-value for RPS10 (tumor vs normal): 7.79327002751782e-12\n",
      "p-value for RPL27A (tumor vs normal): 2.7799435835900077e-09\n",
      "p-value for RPS19 (tumor vs normal): 3.952788758603707e-17\n",
      "p-value for FAU (tumor vs normal): 6.218399464385661e-06\n",
      "p-value for RPS15A (tumor vs normal): 3.9583517348546626e-16\n",
      "p-value for RPL32 (tumor vs normal): 1.5078073793511938e-08\n",
      "p-value for RPL11 (tumor vs normal): 1.1797836430114801e-23\n",
      "p-value for RPL23A (tumor vs normal): 2.772877538493666e-15\n",
      "p-value for RPL38 (tumor vs normal): 7.3763247825840045e-09\n",
      "p-value for RPL4 (tumor vs normal): 8.435494015654348e-13\n",
      "p-value for RPS8 (tumor vs normal): 3.397364206921263e-17\n",
      "p-value for RPLP1 (tumor vs normal): 4.6226077009933025e-05\n",
      "p-value for RPL17 (tumor vs normal): 4.389412510664602e-16\n",
      "p-value for RPL26 (tumor vs normal): 2.4697733644088014e-16\n",
      "p-value for RPS5 (tumor vs normal): 1.0539628685673518e-14\n",
      "p-value for RPL8 (tumor vs normal): 1.0416873988259502e-06\n",
      "p-value for RPS27 (tumor vs normal): 6.125634468214569e-14\n",
      "p-value for RPL31 (tumor vs normal): 1.9160052939113354e-08\n",
      "p-value for RPL10A (tumor vs normal): 2.4100044647236814e-19\n",
      "p-value for RPS6 (tumor vs normal): 1.7618380052869944e-10\n",
      "p-value for RPLP2 (tumor vs normal): 7.798567742802369e-14\n",
      "p-value for RPL21 (tumor vs normal): 1.5213341466290342e-08\n",
      "p-value for RPL3 (tumor vs normal): 2.6325176533312825e-12\n",
      "p-value for RPS28 (tumor vs normal): 1.6582557036956253e-10\n",
      "p-value for RPL6 (tumor vs normal): 9.523229656325277e-17\n",
      "p-value for RPS24 (tumor vs normal): 6.708069100689204e-13\n",
      "p-value for RPL14 (tumor vs normal): 8.73997476786836e-09\n",
      "p-value for RPL34 (tumor vs normal): 4.230943452134409e-14\n",
      "p-value for RPL7 (tumor vs normal): 8.242826872114473e-18\n",
      "p-value for RPS2 (tumor vs normal): 8.602635865280892e-14\n",
      "RPS4Y1 did not match any columns in proteomics dataframe. RPS4Y1_proteomics column inserted, but filled with NaN.\n",
      "p-value for RPS9 (tumor vs normal): 6.967819720455259e-17\n",
      "p-value for RPS18 (tumor vs normal): 0.00010864246454436178\n",
      "p-value for RPL27 (tumor vs normal): 1.7351595346918495e-08\n",
      "p-value for RPS16 (tumor vs normal): 2.821622970326597e-08\n",
      "p-value for RPL13A (tumor vs normal): 1.72152021379157e-12\n",
      "p-value for RPL18 (tumor vs normal): 6.85765144954906e-17\n",
      "p-value for RPL28 (tumor vs normal): 2.9102600557166364e-09\n",
      "RPL41 did not match any columns in proteomics dataframe. RPL41_proteomics column inserted, but filled with NaN.\n",
      "p-value for RPL37 (tumor vs normal): 3.7471678345297107e-17\n",
      "p-value for RPL7A (tumor vs normal): 7.80878131031906e-13\n"
     ]
    }
   ],
   "source": [
    "ribosome_proteins = subunitNames['Ribosome, cytoplasmic']\n",
    "ribosome_proteins = list(set(ribosome_proteins))\n",
    "alpha = 0.05 / len(ribosome_proteins)\n",
    "for protein in ribosome_proteins:\n",
    "    pval = ttest_proteomics(protein)\n",
    "    if pval < alpha:\n",
    "        sig_results.append(protein)\n",
    "        print('p-value for ' + protein + ' (tumor vs normal): ' + str(pval))\n",
    "        #plot_proteomics(protein, by_patient = True, print_pvals = False)"
   ]
  },
  {
   "cell_type": "markdown",
   "metadata": {},
   "source": [
    "### 60S Ribosomal Subunit\n",
    "All of these proteins are elevated in tumor cells"
   ]
  },
  {
   "cell_type": "code",
   "execution_count": 9,
   "metadata": {
    "scrolled": true
   },
   "outputs": [
    {
     "name": "stdout",
     "output_type": "stream",
     "text": [
      "p-value for RPL10 (tumor vs normal): 7.421894037313253e-07\n",
      " RPL9 did not match any columns in proteomics dataframe.  RPL9_proteomics column inserted, but filled with NaN.\n",
      "p-value for RPL23 (tumor vs normal): 1.1254787233805783e-05\n",
      "p-value for RPL22 (tumor vs normal): 1.3422055526683534e-09\n",
      "p-value for RPLP2 (tumor vs normal): 7.798567742802369e-14\n",
      "p-value for RPL21 (tumor vs normal): 1.5213341466290342e-08\n",
      "p-value for RPL3 (tumor vs normal): 2.6325176533312825e-12\n",
      "p-value for RPL35 (tumor vs normal): 7.939817122924483e-18\n",
      "p-value for RPL13 (tumor vs normal): 1.2988095619344782e-07\n",
      "p-value for RPL6 (tumor vs normal): 9.523229656325277e-17\n",
      "p-value for RPL9 (tumor vs normal): 2.4822392057532566e-11\n",
      "p-value for RPL27A (tumor vs normal): 2.7799435835900077e-09\n",
      "p-value for RPL14 (tumor vs normal): 8.73997476786836e-09\n",
      "p-value for RPL32 (tumor vs normal): 1.5078073793511938e-08\n",
      "p-value for RPL11 (tumor vs normal): 1.1797836430114801e-23\n",
      "p-value for RPL34 (tumor vs normal): 4.230943452134409e-14\n",
      "p-value for RPL23A (tumor vs normal): 2.772877538493666e-15\n",
      "p-value for RPL7 (tumor vs normal): 8.242826872114473e-18\n",
      "p-value for RPL12 (tumor vs normal): 5.40106073661242e-08\n",
      "p-value for RPL38 (tumor vs normal): 7.3763247825840045e-09\n",
      "p-value for RPL4 (tumor vs normal): 8.435494015654348e-13\n",
      "p-value for RPLP1 (tumor vs normal): 4.6226077009933025e-05\n",
      "p-value for RPLP0 (tumor vs normal): 1.0089730243881492e-17\n",
      "p-value for RPL17 (tumor vs normal): 4.389412510664602e-16\n",
      "p-value for RPL26 (tumor vs normal): 2.4697733644088014e-16\n",
      "p-value for RPL27 (tumor vs normal): 1.7351595346918495e-08\n",
      "p-value for RPL36A (tumor vs normal): 4.959399948685908e-07\n",
      "p-value for RPL13A (tumor vs normal): 1.72152021379157e-12\n",
      "p-value for RPL18 (tumor vs normal): 6.85765144954906e-17\n",
      "p-value for RPL8 (tumor vs normal): 1.0416873988259502e-06\n",
      "p-value for RPL28 (tumor vs normal): 2.9102600557166364e-09\n",
      "p-value for RPL5 (tumor vs normal): 3.2763136719012823e-09\n",
      "p-value for RPL31 (tumor vs normal): 1.9160052939113354e-08\n",
      "p-value for RPL37 (tumor vs normal): 3.7471678345297107e-17\n",
      "RPL41 did not match any columns in proteomics dataframe. RPL41_proteomics column inserted, but filled with NaN.\n",
      "p-value for RPL7A (tumor vs normal): 7.80878131031906e-13\n",
      "p-value for RPL35A (tumor vs normal): 1.0003114568295201e-06\n",
      "p-value for RPL10A (tumor vs normal): 2.4100044647236814e-19\n",
      "p-value for RPL24 (tumor vs normal): 9.164789589469575e-12\n",
      "p-value for RPL15 (tumor vs normal): 0.00033780461466617444\n"
     ]
    }
   ],
   "source": [
    "ribosome_proteins = subunitNames['60S ribosomal subunit, cytoplasmic']\n",
    "sig_results = []\n",
    "ribosome_proteins = list(set(ribosome_proteins))\n",
    "alpha = 0.05 / len(ribosome_proteins)\n",
    "for protein in ribosome_proteins:\n",
    "    pval = ttest_proteomics(protein)\n",
    "    if pval < alpha:\n",
    "        sig_results.append(protein)\n",
    "        print('p-value for ' + protein + ' (tumor vs normal): ' + str(pval))\n",
    "        #plot_proteomics(protein, by_patient = True, print_pvals = False)"
   ]
  },
  {
   "cell_type": "code",
   "execution_count": null,
   "metadata": {},
   "outputs": [],
   "source": []
  }
 ],
 "metadata": {
  "kernelspec": {
   "display_name": "Python 3",
   "language": "python",
   "name": "python3"
  },
  "language_info": {
   "codemirror_mode": {
    "name": "ipython",
    "version": 3
   },
   "file_extension": ".py",
   "mimetype": "text/x-python",
   "name": "python",
   "nbconvert_exporter": "python",
   "pygments_lexer": "ipython3",
   "version": "3.7.0"
  }
 },
 "nbformat": 4,
 "nbformat_minor": 2
}
