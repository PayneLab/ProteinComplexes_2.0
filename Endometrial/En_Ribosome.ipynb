{
 "cells": [
  {
   "cell_type": "code",
   "execution_count": 4,
   "metadata": {},
   "outputs": [],
   "source": [
    "%%capture\n",
    "%run /Users/amandaoliphant/Documents/GitHub/OvarianProspective/Protein_Complexes/Analysis_Functions.ipynb"
   ]
  },
  {
   "cell_type": "markdown",
   "metadata": {},
   "source": [
    "### 40S Ribosomal Subunit\n",
    "All of these proteins are elevated in tumor cells"
   ]
  },
  {
   "cell_type": "code",
   "execution_count": 14,
   "metadata": {
    "scrolled": false
   },
   "outputs": [
    {
     "name": "stdout",
     "output_type": "stream",
     "text": [
      "p-value for RPS15 (tumor vs normal): 1.4712382811436672e-06\n",
      "p-value for RPS8 (tumor vs normal): 3.0952206752214874e-13\n",
      "p-value for FAU (tumor vs normal): 1.8950016067900946e-05\n",
      "p-value for RPS3A (tumor vs normal): 1.0764234656436468e-25\n",
      "p-value for RPS15A (tumor vs normal): 3.5358248095005236e-09\n",
      "p-value for RPS26 (tumor vs normal): 5.158370684626043e-11\n",
      "RPS4Y1 did not match any columns in proteomics dataframe. RPS4Y1_proteomics column inserted, but filled with NaN.\n",
      "p-value for RPS7 (tumor vs normal): 1.1230488407587804e-15\n",
      "p-value for RPS9 (tumor vs normal): 5.219709162757595e-07\n",
      "p-value for RPS28 (tumor vs normal): 2.752344866810502e-06\n",
      "p-value for RPS2 (tumor vs normal): 3.747247616908294e-23\n",
      "p-value for RPS5 (tumor vs normal): 6.899391516008885e-23\n",
      "p-value for RPS12 (tumor vs normal): 2.3455960360394272e-11\n",
      "p-value for RPSA (tumor vs normal): 1.3726861248760857e-05\n",
      "p-value for RPS25 (tumor vs normal): 1.918492942511121e-07\n",
      "p-value for RPS21 (tumor vs normal): 0.0010398204829753159\n",
      "p-value for RPS17 (tumor vs normal): 1.1370149104752956e-11\n",
      "p-value for RPS27 (tumor vs normal): 2.2114533743896652e-10\n",
      "p-value for RPS3 (tumor vs normal): 7.29603381569044e-16\n",
      "p-value for RPS29 (tumor vs normal): 8.12774003683423e-07\n",
      "p-value for RPS23 (tumor vs normal): 0.00029456535163830555\n",
      "p-value for RPS18 (tumor vs normal): 3.3552497938537494e-07\n",
      "p-value for RPS6 (tumor vs normal): 3.701167786511006e-06\n",
      "p-value for RPS19 (tumor vs normal): 9.00572839639949e-07\n",
      "p-value for RPS10 (tumor vs normal): 1.3397884119964498e-06\n",
      "p-value for RPS13 (tumor vs normal): 1.0972318015444512e-15\n",
      "p-value for RPS4X (tumor vs normal): 5.069201599285792e-05\n",
      "p-value for RPS27A (tumor vs normal): 1.9475407581913275e-07\n",
      "p-value for RPS11 (tumor vs normal): 3.9969383907102935e-14\n"
     ]
    }
   ],
   "source": [
    "ribosome_proteins = subunitNames['40S ribosomal subunit, cytoplasmic']\n",
    "sig_results = []\n",
    "ribosome_proteins = list(set(ribosome_proteins))\n",
    "alpha = 0.05 / len(ribosome_proteins)\n",
    "for protein in ribosome_proteins:\n",
    "    pval = ttest_proteomics(protein, cancer_type = 'en')\n",
    "    if pval < alpha:\n",
    "        sig_results.append(protein)\n",
    "        print('p-value for ' + protein + ' (tumor vs normal): ' + str(pval))\n",
    "        #plot_proteomics(protein, print_pvals = False, cancer_type = 'en')"
   ]
  },
  {
   "cell_type": "markdown",
   "metadata": {},
   "source": [
    "### Ribosome (cytoplasmic)\n",
    "All of these proteins are elevated in tumor cells"
   ]
  },
  {
   "cell_type": "code",
   "execution_count": 15,
   "metadata": {
    "scrolled": false
   },
   "outputs": [
    {
     "name": "stdout",
     "output_type": "stream",
     "text": [
      "p-value for RPS8 (tumor vs normal): 3.0952206752214874e-13\n",
      "p-value for RPS26 (tumor vs normal): 5.158370684626043e-11\n",
      "p-value for RPS9 (tumor vs normal): 5.219709162757595e-07\n",
      "p-value for RPS2 (tumor vs normal): 3.747247616908294e-23\n",
      "p-value for RPS23 (tumor vs normal): 0.00029456535163830555\n",
      "p-value for RPLP1 (tumor vs normal): 2.1022259059211182e-14\n",
      "p-value for RPS10 (tumor vs normal): 1.3397884119964498e-06\n",
      "p-value for RPS13 (tumor vs normal): 1.0972318015444512e-15\n",
      "p-value for RPL9 (tumor vs normal): 4.381419627926852e-25\n",
      "p-value for RPL18 (tumor vs normal): 6.793713750229562e-10\n",
      "p-value for RPL26 (tumor vs normal): 2.756655064966104e-12\n",
      "p-value for RPL4 (tumor vs normal): 7.688293242887555e-12\n",
      "p-value for RPL12 (tumor vs normal): 1.319569955105247e-07\n",
      "p-value for RPL18A (tumor vs normal): 5.2910306932046445e-11\n",
      "p-value for RPL17 (tumor vs normal): 1.8642631885091488e-14\n",
      "RPS4Y1 did not match any columns in proteomics dataframe. RPS4Y1_proteomics column inserted, but filled with NaN.\n",
      "p-value for RPL22 (tumor vs normal): 8.091431068157219e-19\n",
      "p-value for RPS12 (tumor vs normal): 2.3455960360394272e-11\n",
      "p-value for RPS17 (tumor vs normal): 1.1370149104752956e-11\n",
      "p-value for RPS29 (tumor vs normal): 8.12774003683423e-07\n",
      "p-value for RPL23A (tumor vs normal): 1.396037654851895e-10\n",
      "p-value for UBA52 (tumor vs normal): 7.872567665726608e-07\n",
      "p-value for RPS6 (tumor vs normal): 3.701167786511006e-06\n",
      "p-value for RPL38 (tumor vs normal): 0.00015409464692779347\n",
      "p-value for RPS4X (tumor vs normal): 5.069201599285792e-05\n",
      "p-value for RPL24 (tumor vs normal): 5.746585775268999e-06\n",
      "p-value for RPL27 (tumor vs normal): 1.6088446623168058e-13\n",
      "p-value for RPL21 (tumor vs normal): 5.791770633047439e-14\n",
      "p-value for RPL27A (tumor vs normal): 3.2712460130892144e-13\n",
      "RPL41 did not match any columns in proteomics dataframe. RPL41_proteomics column inserted, but filled with NaN.\n",
      "p-value for RPS15 (tumor vs normal): 1.4712382811436672e-06\n",
      "p-value for RPS3A (tumor vs normal): 1.0764234656436468e-25\n",
      "p-value for RPL10 (tumor vs normal): 4.438641399608829e-19\n",
      "p-value for RPS15A (tumor vs normal): 3.5358248095005236e-09\n",
      "p-value for RPS7 (tumor vs normal): 1.1230488407587804e-15\n",
      "p-value for RPS28 (tumor vs normal): 2.752344866810502e-06\n",
      "p-value for RPL28 (tumor vs normal): 1.2601055927044546e-06\n",
      "p-value for RPS5 (tumor vs normal): 6.899391516008885e-23\n",
      "p-value for RPSA (tumor vs normal): 1.3726861248760857e-05\n",
      "p-value for RPS3 (tumor vs normal): 7.29603381569044e-16\n",
      "p-value for RPL5 (tumor vs normal): 8.434915948532104e-22\n",
      "p-value for RPS19 (tumor vs normal): 9.00572839639949e-07\n",
      "p-value for RPL14 (tumor vs normal): 8.671517043975523e-07\n",
      "p-value for RPLP2 (tumor vs normal): 1.870513587510211e-11\n",
      "p-value for RPS27A (tumor vs normal): 1.9475407581913275e-07\n",
      "p-value for RPS11 (tumor vs normal): 3.9969383907102935e-14\n",
      "p-value for RPL3 (tumor vs normal): 5.047843749939167e-11\n",
      "p-value for FAU (tumor vs normal): 1.8950016067900946e-05\n",
      " RPL9 did not match any columns in proteomics dataframe.  RPL9_proteomics column inserted, but filled with NaN.\n",
      "p-value for RPLP0 (tumor vs normal): 1.2432595452006726e-20\n",
      "p-value for RPL8 (tumor vs normal): 3.1983748599636877e-09\n",
      "p-value for RPL7A (tumor vs normal): 6.649776404869636e-13\n",
      "p-value for RPL37 (tumor vs normal): 1.9019362728345192e-05\n",
      "p-value for RPL10A (tumor vs normal): 5.152381649546459e-16\n",
      "p-value for RPS25 (tumor vs normal): 1.918492942511121e-07\n",
      "p-value for RPS27 (tumor vs normal): 2.2114533743896652e-10\n",
      "p-value for RPL13A (tumor vs normal): 9.393073210936177e-11\n",
      "p-value for RPS18 (tumor vs normal): 3.3552497938537494e-07\n",
      "p-value for RPL13 (tumor vs normal): 1.4803171129532294e-09\n",
      "p-value for RPL11 (tumor vs normal): 2.3608743036024497e-17\n",
      "p-value for RPL7 (tumor vs normal): 1.3547324554697227e-11\n",
      "p-value for RPL30 (tumor vs normal): 1.3725156303910793e-09\n",
      "p-value for RPL23 (tumor vs normal): 5.171428835679403e-09\n"
     ]
    }
   ],
   "source": [
    "ribosome_proteins = subunitNames['Ribosome, cytoplasmic']\n",
    "ribosome_proteins = list(set(ribosome_proteins))\n",
    "alpha = 0.05 / len(ribosome_proteins)\n",
    "for protein in ribosome_proteins:\n",
    "    pval = ttest_proteomics(protein, cancer_type = 'en')\n",
    "    if pval < alpha:\n",
    "        sig_results.append(protein)\n",
    "        print('p-value for ' + protein + ' (tumor vs normal): ' + str(pval))\n",
    "        #plot_proteomics(protein, print_pvals = False, cancer_type = 'en')"
   ]
  },
  {
   "cell_type": "markdown",
   "metadata": {},
   "source": [
    "### 60S Ribosomal Subunit\n",
    "All of these proteins are elevated in tumor cells"
   ]
  },
  {
   "cell_type": "code",
   "execution_count": 18,
   "metadata": {
    "scrolled": false
   },
   "outputs": [
    {
     "name": "stdout",
     "output_type": "stream",
     "text": [
      "p-value for RPL3 (tumor vs normal): 5.047843749939167e-11\n",
      "RPL41 did not match any columns in proteomics dataframe. RPL41_proteomics column inserted, but filled with NaN.\n",
      "p-value for RPL4 (tumor vs normal): 7.688293242887555e-12\n",
      "p-value for RPL12 (tumor vs normal): 1.319569955105247e-07\n",
      "p-value for RPL18A (tumor vs normal): 5.2910306932046445e-11\n",
      "p-value for RPL17 (tumor vs normal): 1.8642631885091488e-14\n",
      "p-value for RPL10 (tumor vs normal): 4.438641399608829e-19\n",
      " RPL9 did not match any columns in proteomics dataframe.  RPL9_proteomics column inserted, but filled with NaN.\n",
      "p-value for RPLP0 (tumor vs normal): 1.2432595452006726e-20\n",
      "p-value for RPL8 (tumor vs normal): 3.1983748599636877e-09\n",
      "p-value for RPL7A (tumor vs normal): 6.649776404869636e-13\n",
      "p-value for RPL37 (tumor vs normal): 1.9019362728345192e-05\n",
      "p-value for RPL22 (tumor vs normal): 8.091431068157219e-19\n",
      "p-value for RPL28 (tumor vs normal): 1.2601055927044546e-06\n",
      "p-value for RPL18 (tumor vs normal): 6.793713750229562e-10\n",
      "p-value for RPL10A (tumor vs normal): 5.152381649546459e-16\n",
      "p-value for RPL13A (tumor vs normal): 9.393073210936177e-11\n",
      "p-value for RPLP1 (tumor vs normal): 2.1022259059211182e-14\n",
      "p-value for RPL13 (tumor vs normal): 1.4803171129532294e-09\n",
      "p-value for RPL5 (tumor vs normal): 8.434915948532104e-22\n",
      "p-value for RPL23A (tumor vs normal): 1.396037654851895e-10\n",
      "p-value for UBA52 (tumor vs normal): 7.872567665726608e-07\n",
      "p-value for RPL38 (tumor vs normal): 0.00015409464692779347\n",
      "p-value for RPL11 (tumor vs normal): 2.3608743036024497e-17\n",
      "p-value for RPL7 (tumor vs normal): 1.3547324554697227e-11\n",
      "p-value for RPL30 (tumor vs normal): 1.3725156303910793e-09\n",
      "p-value for RPL14 (tumor vs normal): 8.671517043975523e-07\n",
      "p-value for RPLP2 (tumor vs normal): 1.870513587510211e-11\n",
      "p-value for RPL23 (tumor vs normal): 5.171428835679403e-09\n",
      "p-value for RPL27 (tumor vs normal): 1.6088446623168058e-13\n",
      "p-value for RPL24 (tumor vs normal): 5.746585775268999e-06\n",
      "p-value for RPL9 (tumor vs normal): 4.381419627926852e-25\n",
      "p-value for RPL21 (tumor vs normal): 5.791770633047439e-14\n",
      "p-value for RPL26 (tumor vs normal): 2.756655064966104e-12\n",
      "p-value for RPL27A (tumor vs normal): 3.2712460130892144e-13\n"
     ]
    }
   ],
   "source": [
    "ribosome_proteins = subunitNames['60S ribosomal subunit, cytoplasmic']\n",
    "sig_results = []\n",
    "ribosome_proteins = list(set(ribosome_proteins))\n",
    "alpha = 0.05 / len(ribosome_proteins)\n",
    "for protein in ribosome_proteins:\n",
    "    pval = ttest_proteomics(protein, cancer_type = 'en')\n",
    "    if pval < alpha:\n",
    "        sig_results.append(protein)\n",
    "        print('p-value for ' + protein + ' (tumor vs normal): ' + str(pval))\n",
    "        #plot_proteomics(protein, print_pvals = False, cancer_type = 'en')"
   ]
  },
  {
   "cell_type": "code",
   "execution_count": null,
   "metadata": {},
   "outputs": [],
   "source": []
  }
 ],
 "metadata": {
  "kernelspec": {
   "display_name": "Python 3",
   "language": "python",
   "name": "python3"
  },
  "language_info": {
   "codemirror_mode": {
    "name": "ipython",
    "version": 3
   },
   "file_extension": ".py",
   "mimetype": "text/x-python",
   "name": "python",
   "nbconvert_exporter": "python",
   "pygments_lexer": "ipython3",
   "version": "3.7.0"
  }
 },
 "nbformat": 4,
 "nbformat_minor": 2
}
