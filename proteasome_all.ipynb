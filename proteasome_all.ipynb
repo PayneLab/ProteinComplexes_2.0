{
 "cells": [
  {
   "cell_type": "markdown",
   "metadata": {},
   "source": [
    "# Proteasome proteins' expression in tumor vs. normal samples\n",
    "\n",
    "This notebook uses permutation testing to investigate the abundance levels of proteins making up the proteasome in tumor vs. normal samples."
   ]
  },
  {
   "cell_type": "markdown",
   "metadata": {},
   "source": [
    "Import needed packages."
   ]
  },
  {
   "cell_type": "code",
   "execution_count": 1,
   "metadata": {},
   "outputs": [],
   "source": [
    "import cptac\n",
    "import pcanalyzer as pc\n",
    "import seaborn as sns\n",
    "import matplotlib.pyplot as plt"
   ]
  },
  {
   "cell_type": "markdown",
   "metadata": {},
   "source": [
    "Load the datasets."
   ]
  },
  {
   "cell_type": "code",
   "execution_count": null,
   "metadata": {},
   "outputs": [],
   "source": [
    "datasets = []\n",
    "\n",
    "#datasets.append(cptac.Brca()) # Brca has no normal samples\n",
    "datasets.append(cptac.Ccrcc())\n",
    "#datasets.append(cptac.Colon())\n",
    "#datasets.append(cptac.Endometrial())\n",
    "\n",
    "#datasets.append(cptac.Gbm())\n",
    "#datasets.append(cptac.Hnscc())\n",
    "\n",
    "#datasets.append(cptac.Lscc())\n",
    "#datasets.append(cptac.Luad())\n",
    "\n",
    "#datasets.append(cptac.Ovarian())"
   ]
  },
  {
   "cell_type": "markdown",
   "metadata": {},
   "source": [
    "Get a list of proteins within the proteasome."
   ]
  },
  {
   "cell_type": "code",
   "execution_count": 66,
   "metadata": {},
   "outputs": [
    {
     "data": {
      "text/plain": [
       "['PSMA1',\n",
       " 'PSMA2',\n",
       " 'PSMA3',\n",
       " 'PSMA4',\n",
       " 'PSMA5',\n",
       " 'PSMA6',\n",
       " 'PSMA7',\n",
       " 'PSMB1',\n",
       " 'PSMB2',\n",
       " 'PSMB3',\n",
       " 'PSMB4',\n",
       " 'PSMB5',\n",
       " 'PSMB6',\n",
       " 'PSMB7',\n",
       " 'PSMC1',\n",
       " 'PSMC2',\n",
       " 'PSMC3',\n",
       " 'PSMC4',\n",
       " 'PSMC5',\n",
       " 'PSMC6',\n",
       " 'PSMD1',\n",
       " 'PSMD10',\n",
       " 'PSMD11',\n",
       " 'PSMD12',\n",
       " 'PSMD13',\n",
       " 'PSMD14',\n",
       " 'PSMD2',\n",
       " 'PSMD3',\n",
       " 'PSMD4',\n",
       " 'PSMD5',\n",
       " 'PSMD6',\n",
       " 'PSMD7',\n",
       " 'PSMD8',\n",
       " 'PSMD9',\n",
       " 'PSME1',\n",
       " 'PSME2',\n",
       " 'PSME3']"
      ]
     },
     "execution_count": 66,
     "metadata": {},
     "output_type": "execute_result"
    }
   ],
   "source": [
    "protein_lists = pc.get_member_proteins()\n",
    "proteasome_proteins = protein_lists['PA700 complex'] + protein_lists['26S proteasome'] + protein_lists['20S proteasome'] + protein_lists['PA28-20S proteasome'] + protein_lists['PA700-20S-PA28 complex'] + protein_lists['PA28gamma-20S proteasome']\n",
    "proteasome_proteins = sorted(set(proteasome_proteins))\n",
    "proteasome_proteins"
   ]
  }
 ],
 "metadata": {
  "kernelspec": {
   "display_name": "Python 3",
   "language": "python",
   "name": "python3"
  },
  "language_info": {
   "codemirror_mode": {
    "name": "ipython",
    "version": 3
   },
   "file_extension": ".py",
   "mimetype": "text/x-python",
   "name": "python",
   "nbconvert_exporter": "python",
   "pygments_lexer": "ipython3",
   "version": "3.7.6"
  }
 },
 "nbformat": 4,
 "nbformat_minor": 4
}
