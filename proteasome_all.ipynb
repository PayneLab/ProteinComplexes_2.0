{
 "cells": [
  {
   "cell_type": "markdown",
   "metadata": {},
   "source": [
    "# Proteasome proteins' expression in tumor vs. normal samples\n",
    "\n",
    "This notebook uses permutation testing to investigate the abundance levels of proteins making up the proteasome in tumor vs. normal samples."
   ]
  },
  {
   "cell_type": "markdown",
   "metadata": {},
   "source": [
    "Import needed packages."
   ]
  },
  {
   "cell_type": "code",
   "execution_count": 1,
   "metadata": {},
   "outputs": [],
   "source": [
    "import cptac\n",
    "import pcanalyzer as pc\n",
    "import seaborn as sns\n",
    "import matplotlib.pyplot as plt"
   ]
  },
  {
   "cell_type": "markdown",
   "metadata": {},
   "source": [
    "Load the datasets."
   ]
  },
  {
   "cell_type": "code",
   "execution_count": 2,
   "metadata": {},
   "outputs": [
    {
     "name": "stdout",
     "output_type": "stream",
     "text": [
      "                                    \r"
     ]
    }
   ],
   "source": [
    "datasets = []\n",
    "\n",
    "#datasets.append(cptac.Brca()) # Brca has no normal samples\n",
    "datasets.append(cptac.Ccrcc())\n",
    "#datasets.append(cptac.Colon())\n",
    "#datasets.append(cptac.Endometrial())\n",
    "\n",
    "#datasets.append(cptac.Gbm())\n",
    "#datasets.append(cptac.Hnscc())\n",
    "\n",
    "#datasets.append(cptac.Lscc())\n",
    "#datasets.append(cptac.Luad())\n",
    "\n",
    "#datasets.append(cptac.Ovarian())"
   ]
  },
  {
   "cell_type": "markdown",
   "metadata": {},
   "source": [
    "Get a list of proteins within the proteasome. We have data from both CORUM and HGNC on which proteins are contained in particular protein complexes. However, the HGNC data is more comprehensive--it contains proteins that aren't  included in the CORUM data. Additionally, the CORUM data breaks it up into more specific  subgroups than HGNC, so the HGNC data is easier to query when we just want all proteins associated with a particular structure."
   ]
  },
  {
   "cell_type": "code",
   "execution_count": 3,
   "metadata": {},
   "outputs": [],
   "source": [
    "hgnc_lists = pc.get_hgnc_protein_lists()\n",
    "proteasome_proteins = sorted(set(hgnc_lists[\"Proteasome\"]))"
   ]
  },
  {
   "cell_type": "markdown",
   "metadata": {},
   "source": [
    "Test which proteins have a significant difference between the mean expression in tumor vs. normal samples."
   ]
  },
  {
   "cell_type": "code",
   "execution_count": 4,
   "metadata": {},
   "outputs": [
    {
     "name": "stdout",
     "output_type": "stream",
     "text": [
      "Num tests: 44\n",
      "Alpha: 0.0011363636363636365\n",
      "Num permutations: 10000\n",
      "Min P: 0.0001\n",
      "\n",
      "ccrcc\n",
      "\tP <= alpha:\n",
      "\t\t(('PSMA1', 'NP_002777.1'), 0.0)\n",
      "\t\t(('PSMA2', 'NP_002778.1'), 0.0)\n",
      "\t\t(('PSMA3', 'NP_002779.1'), 0.0)\n",
      "\t\t(('PSMA4', 'NP_001096137.1'), 0.0)\n",
      "\t\t(('PSMA5', 'NP_002781.2'), 0.0)\n",
      "\t\t(('PSMA6', 'NP_002782.1'), 0.0)\n",
      "\t\t(('PSMA7', 'NP_002783.1'), 0.0)\n",
      "\t\t(('PSMB1', 'NP_002784.1'), 0.0)\n",
      "\t\t(('PSMB10', 'NP_002792.1'), 0.0)\n",
      "\t\t(('PSMB2', 'NP_002785.1'), 0.0)\n",
      "\t\t(('PSMB3', 'NP_002786.2'), 0.0001)\n",
      "\t\t(('PSMB4', 'NP_002787.2'), 0.0)\n",
      "\t\t(('PSMB5', 'NP_002788.1'), 0.0)\n",
      "\t\t(('PSMB6', 'NP_002789.1'), 0.0)\n",
      "\t\t(('PSMB7', 'NP_002790.1'), 0.0)\n",
      "\t\t(('PSMB8', 'NP_683720.2'), 0.0)\n",
      "\t\t(('PSMB9', 'NP_002791.1'), 0.0)\n",
      "\t\t(('PSMC1', 'NP_002793.2'), 0.0)\n",
      "\t\t(('PSMC2', 'NP_002794.1'), 0.0)\n",
      "\t\t(('PSMC3', 'NP_002795.2'), 0.0)\n",
      "\t\t(('PSMC4', 'NP_006494.1'), 0.0)\n",
      "\t\t(('PSMC5', 'NP_002796.4'), 0.0)\n",
      "\t\t(('PSMC6', 'NP_002797.3'), 0.0)\n",
      "\t\t(('PSMD1', 'NP_001177966.1'), 0.0)\n",
      "\t\t(('PSMD10', 'NP_002805.1'), 0.0)\n",
      "\t\t(('PSMD12', 'NP_002807.1'), 0.0)\n",
      "\t\t(('PSMD13', 'NP_002808.3'), 0.0)\n",
      "\t\t(('PSMD14', 'NP_005796.1'), 0.0)\n",
      "\t\t(('PSMD2', 'NP_002799.3'), 0.0)\n",
      "\t\t(('PSMD3', 'NP_002800.2'), 0.0)\n",
      "\t\t(('PSMD4', 'NP_001317621.1'), 0.0)\n",
      "\t\t(('PSMD4', 'NP_002801.1'), 0.0)\n",
      "\t\t(('PSMD5', 'NP_005038.1'), 0.0)\n",
      "\t\t(('PSMD6', 'NP_055629.1'), 0.0)\n",
      "\t\t(('PSMD7', 'NP_002802.2'), 0.0006)\n",
      "\t\t(('PSMD8', 'NP_002803.2'), 0.0)\n",
      "\t\t(('PSME1', 'NP_006254.1'), 0.0)\n",
      "\t\t(('PSME2', 'NP_002809.2'), 0.0)\n",
      "\t\t(('PSME3', 'NP_001253974.1'), 0.0)\n",
      "\t\t(('PSMF1', 'NP_001310337.1'), 0.0)\n",
      "\t\t(('PSMF1', 'NP_006805.2'), 0.0)\n",
      "\n",
      "\tP > alpha:\n",
      "\t\t(('PSMD11', 'NP_001257411.1'), 0.063)\n",
      "\t\t(('PSMD9', 'NP_002804.2'), 0.1061)\n",
      "\t\t(('PSME4', 'NP_055429.2'), 0.0026)\n"
     ]
    }
   ],
   "source": [
    "# Run the tests\n",
    "num_permutations = 10000\n",
    "results, num_tests = pc.perm_test_omics_pancancer(\n",
    "    datasets=datasets,\n",
    "    id_list=proteasome_proteins,\n",
    "    data_type=\"proteomics\",\n",
    "    num_permutations=num_permutations)\n",
    "\n",
    "# Set our alpha and calculate the minimum P value we can report\n",
    "alpha = 0.05 / num_tests\n",
    "min_P = 1 / num_permutations\n",
    "\n",
    "# Sort out results between those above and below alpha, and print the results\n",
    "print(f\"Num tests: {num_tests}\\nAlpha: {alpha}\\nNum permutations: {num_permutations}\\nMin P: {min_P}\\n\")\n",
    "for dataset, ds_results in results.items():\n",
    "    sig = []\n",
    "    not_sig = []\n",
    "    for protein_result in ds_results:\n",
    "        if protein_result[1] <= alpha:\n",
    "            sig.append(protein_result)\n",
    "        else:\n",
    "            not_sig.append(protein_result)\n",
    "            \n",
    "    print(f\"{dataset}\\n\\tP <= alpha:\")\n",
    "    for sig_res in sig:\n",
    "        print(f\"\\t\\t{sig_res}\")\n",
    "    print(f\"\\n\\tP > alpha:\")\n",
    "    for not_sig_res in not_sig:\n",
    "        print(f\"\\t\\t{not_sig_res}\")"
   ]
  },
  {
   "cell_type": "code",
   "execution_count": 5,
   "metadata": {},
   "outputs": [],
   "source": [
    "# Next: Write a function to do boxplots, based off Amanda's, and then plot the results for proteins \n",
    "# with a significant difference. Then, test it on the supercomputer for all proteins will small\n",
    "# numbers of permutations; then run with large numbers of permutations."
   ]
  }
 ],
 "metadata": {
  "kernelspec": {
   "display_name": "Python 3",
   "language": "python",
   "name": "python3"
  },
  "language_info": {
   "codemirror_mode": {
    "name": "ipython",
    "version": 3
   },
   "file_extension": ".py",
   "mimetype": "text/x-python",
   "name": "python",
   "nbconvert_exporter": "python",
   "pygments_lexer": "ipython3",
   "version": "3.7.6"
  }
 },
 "nbformat": 4,
 "nbformat_minor": 4
}
